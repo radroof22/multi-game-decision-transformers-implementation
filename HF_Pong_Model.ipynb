{
 "cells": [
  {
   "cell_type": "code",
   "execution_count": null,
   "metadata": {},
   "outputs": [
    {
     "ename": "",
     "evalue": "",
     "output_type": "error",
     "traceback": [
      "\u001b[1;31mFailed to start the Kernel. \n",
      "\u001b[1;31mOSError: [Errno 122] Disk quota exceeded. \n",
      "\u001b[1;31mView Jupyter <a href='command:jupyter.viewOutput'>log</a> for further details."
     ]
    }
   ],
   "source": [
    "# Import the libraries\n",
    "import os \n",
    "\n",
    "import gym\n",
    "\n",
    "from stable_baselines3 import PPO\n",
    "from stable_baselines3.common.vec_env import VecNormalize\n",
    "\n",
    "from stable_baselines3.common.env_util import make_atari_env\n",
    "from stable_baselines3.common.vec_env import VecFrameStack\n",
    "\n",
    "from huggingface_sb3 import load_from_hub, push_to_hub\n",
    "\n",
    "from IPython.display import clear_output\n",
    "import matplotlib.pyplot as plt\n",
    "%matplotlib inline\n",
    "\n",
    "import pickle\n"
   ]
  },
  {
   "cell_type": "code",
   "execution_count": null,
   "metadata": {},
   "outputs": [
    {
     "ename": "",
     "evalue": "",
     "output_type": "error",
     "traceback": [
      "\u001b[1;31mFailed to start the Kernel. \n",
      "\u001b[1;31mOSError: [Errno 122] Disk quota exceeded. \n",
      "\u001b[1;31mView Jupyter <a href='command:jupyter.viewOutput'>log</a> for further details."
     ]
    }
   ],
   "source": [
    "\n",
    "# Load the model\n",
    "checkpoint = load_from_hub(\"ThomasSimonini/ppo-PongNoFrameskip-v4\", \"ppo-PongNoFrameskip-v4.zip\")\n",
    "\n",
    "# Because we using 3.7 on Colab and this agent was trained with 3.8 to avoid Pickle errors:\n",
    "custom_objects = {\n",
    "            \"learning_rate\": 0.0,\n",
    "            \"lr_schedule\": lambda _: 0.0,\n",
    "            \"clip_range\": lambda _: 0.0,\n",
    "        }\n",
    "\n",
    "model= PPO.load(checkpoint, custom_objects=custom_objects)"
   ]
  },
  {
   "cell_type": "code",
   "execution_count": null,
   "metadata": {},
   "outputs": [
    {
     "ename": "",
     "evalue": "",
     "output_type": "error",
     "traceback": [
      "\u001b[1;31mFailed to start the Kernel. \n",
      "\u001b[1;31mOSError: [Errno 122] Disk quota exceeded. \n",
      "\u001b[1;31mView Jupyter <a href='command:jupyter.viewOutput'>log</a> for further details."
     ]
    }
   ],
   "source": [
    "import gymnasium as gym\n",
    "env = gym.make(\"ALE/Pong-v5\", render_mode=\"rgb_array\")"
   ]
  },
  {
   "cell_type": "code",
   "execution_count": null,
   "metadata": {},
   "outputs": [
    {
     "ename": "",
     "evalue": "",
     "output_type": "error",
     "traceback": [
      "\u001b[1;31mFailed to start the Kernel. \n",
      "\u001b[1;31mOSError: [Errno 122] Disk quota exceeded. \n",
      "\u001b[1;31mView Jupyter <a href='command:jupyter.viewOutput'>log</a> for further details."
     ]
    }
   ],
   "source": [
    "env = make_atari_env('PongNoFrameskip-v4', n_envs=1)\n",
    "env = VecFrameStack(env, n_stack=4)"
   ]
  },
  {
   "cell_type": "code",
   "execution_count": null,
   "metadata": {},
   "outputs": [
    {
     "ename": "",
     "evalue": "",
     "output_type": "error",
     "traceback": [
      "\u001b[1;31mFailed to start the Kernel. \n",
      "\u001b[1;31mOSError: [Errno 122] Disk quota exceeded. \n",
      "\u001b[1;31mView Jupyter <a href='command:jupyter.viewOutput'>log</a> for further details."
     ]
    }
   ],
   "source": [
    "\n",
    "obs = env.reset()\n",
    "while True:\n",
    "    action, _states = model.predict(obs)\n",
    "    obs, rewards, dones, info = env.step(action)\n",
    "    \n",
    "    frame = env.render(mode=\"rgb_array\")\n",
    "    plt.imshow(frame)\n",
    "    plt.axis(\"off\")\n",
    "    clear_output(wait=True)\n",
    "\n",
    "    plt.show()\n",
    "\n",
    "    if dones[0]:\n",
    "        break\n",
    "env.close()"
   ]
  },
  {
   "cell_type": "code",
   "execution_count": null,
   "metadata": {},
   "outputs": [
    {
     "ename": "",
     "evalue": "",
     "output_type": "error",
     "traceback": [
      "\u001b[1;31mFailed to start the Kernel. \n",
      "\u001b[1;31mOSError: [Errno 122] Disk quota exceeded. \n",
      "\u001b[1;31mView Jupyter <a href='command:jupyter.viewOutput'>log</a> for further details."
     ]
    }
   ],
   "source": [
    "obs = env.reset()\n",
    "frame = env.render(mode=\"rgb_array\")\n",
    "model.predict(obs)"
   ]
  },
  {
   "attachments": {},
   "cell_type": "markdown",
   "metadata": {},
   "source": [
    "# Collect Dataset"
   ]
  },
  {
   "cell_type": "code",
   "execution_count": null,
   "metadata": {},
   "outputs": [
    {
     "ename": "",
     "evalue": "",
     "output_type": "error",
     "traceback": [
      "\u001b[1;31mFailed to start the Kernel. \n",
      "\u001b[1;31mOSError: [Errno 122] Disk quota exceeded. \n",
      "\u001b[1;31mView Jupyter <a href='command:jupyter.viewOutput'>log</a> for further details."
     ]
    }
   ],
   "source": [
    "\n",
    "\n",
    "# Set the number of episodes to collect trajectories\n",
    "n_episodes = 1_000\n",
    "\n",
    "# Storage for trajectories\n",
    "trajectories = []\n",
    "\n",
    "# Run episodes to collect trajectories\n",
    "for episode in range(n_episodes):\n",
    "    obs = env.reset()\n",
    "    episode_data = {\n",
    "        \"state\": [],\n",
    "        \"next_state\": [],\n",
    "        \"actions\": [],\n",
    "        \"rewards\": [],\n",
    "        \"dones\": []\n",
    "    }\n",
    "\n",
    "    done = [False]\n",
    "    for i in range(10_000_000):\n",
    "        action, _states = model.predict(obs)\n",
    "        next_obs, reward, done, info = env.step(action)\n",
    "        \n",
    "\n",
    "        # Store step data in trajectory\n",
    "        episode_data[\"state\"].append(obs)   # Store the stacked frames\n",
    "        episode_data[\"next_state\"].append(next_obs)   # Store the stacked next_frames\n",
    "        episode_data[\"actions\"].append(action)      # Store the selected action\n",
    "        episode_data[\"rewards\"].append(reward)      # Store the received reward\n",
    "        episode_data[\"dones\"].append(done)          # Store the done flag\n",
    "\n",
    "        if done[0]:\n",
    "            break\n",
    "    \n",
    "        obs = next_obs\n",
    "\n",
    "    # Append episode data to trajectories\n",
    "    trajectories.append(episode_data)\n",
    "\n",
    "    if episode % 20 == 0:\n",
    "        # Save trajectories to a file\n",
    "        with open(\"/home/hice1/rmehta98/scratch/pong_trajectories.pkl\", \"wb\") as f:\n",
    "            pickle.dump(trajectories, f)\n",
    "\n",
    "print(\"Trajectories saved to pong_trajectories.pkl\")\n",
    "\n",
    "# Close the environment\n",
    "env.close()"
   ]
  },
  {
   "cell_type": "code",
   "execution_count": null,
   "metadata": {},
   "outputs": [
    {
     "ename": "",
     "evalue": "",
     "output_type": "error",
     "traceback": [
      "\u001b[1;31mFailed to start the Kernel. \n",
      "\u001b[1;31mOSError: [Errno 122] Disk quota exceeded. \n",
      "\u001b[1;31mView Jupyter <a href='command:jupyter.viewOutput'>log</a> for further details."
     ]
    }
   ],
   "source": []
  }
 ],
 "metadata": {
  "kernelspec": {
   "display_name": "cs8803drl_hw2",
   "language": "python",
   "name": "python3"
  },
  "language_info": {
   "codemirror_mode": {
    "name": "ipython",
    "version": 3
   },
   "file_extension": ".py",
   "mimetype": "text/x-python",
   "name": "python",
   "nbconvert_exporter": "python",
   "pygments_lexer": "ipython3",
   "version": "3.10.15"
  },
  "orig_nbformat": 4
 },
 "nbformat": 4,
 "nbformat_minor": 2
}
